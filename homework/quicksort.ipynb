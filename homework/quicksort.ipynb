{
 "cells": [
  {
   "cell_type": "code",
   "execution_count": 20,
   "metadata": {},
   "outputs": [],
   "source": [
    "def quicksort(list):\n",
    "    if len(list) < 2:\n",
    "        return list\n",
    "    #如果list長度小於2不用排直接return\n",
    "    else:\n",
    "        pivot=list[0]#以list中第0個當基準\n",
    "        smaller=[i for i in list[1:] if i <= pivot]#比pivot小放smaller[]\n",
    "        bigger=[i for i in list[1:] if i > pivot]#比pivot大放bigger[]\n",
    "        return quicksort(smaller)+[pivot]+quicksort(bigger)#若smaller[]跟bigger[]中的數大於2，繼續排列，直到全部都剩1個"
   ]
  },
  {
   "cell_type": "code",
   "execution_count": 21,
   "metadata": {},
   "outputs": [
    {
     "data": {
      "text/plain": [
       "[2, 9, 16, 21, 23, 27, 35, 44, 56, 58, 66, 88]"
      ]
     },
     "execution_count": 21,
     "metadata": {},
     "output_type": "execute_result"
    }
   ],
   "source": [
    "list=[23,66,88,9,56,2,44,58,16,27,35,21]\n",
    "quicksort(list)"
   ]
  },
  {
   "cell_type": "code",
   "execution_count": null,
   "metadata": {},
   "outputs": [],
   "source": []
  }
 ],
 "metadata": {
  "kernelspec": {
   "display_name": "Python 3",
   "language": "python",
   "name": "python3"
  },
  "language_info": {
   "codemirror_mode": {
    "name": "ipython",
    "version": 3
   },
   "file_extension": ".py",
   "mimetype": "text/x-python",
   "name": "python",
   "nbconvert_exporter": "python",
   "pygments_lexer": "ipython3",
   "version": "3.7.1"
  }
 },
 "nbformat": 4,
 "nbformat_minor": 2
}
